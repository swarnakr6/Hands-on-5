{
 "cells": [
  {
   "cell_type": "code",
   "execution_count": 1,
   "id": "84910ac2",
   "metadata": {},
   "outputs": [
    {
     "name": "stdout",
     "output_type": "stream",
     "text": [
      "Initial Min Heap: [1, 4, 3, 5, 10, 8]\n",
      "Heap after insertion: [1, 4, 2, 5, 10, 8, 3]\n",
      "Popped root node: 1\n",
      "Heap after popping root node: [2, 4, 3, 5, 10, 8]\n"
     ]
    }
   ],
   "source": [
    "class MinHeap:\n",
    "    def __init__(self):\n",
    "        self.heap = []\n",
    "\n",
    "    def parent(self, i):\n",
    "        return (i - 1) >> 1\n",
    "\n",
    "    def left_child(self, i):\n",
    "        return (i << 1) + 1\n",
    "\n",
    "    def right_child(self, i):\n",
    "        return (i << 1) + 2\n",
    "\n",
    "    def swap(self, i, j):\n",
    "        self.heap[i], self.heap[j] = self.heap[j], self.heap[i]\n",
    "\n",
    "    def heapify_up(self, i):\n",
    "        while i != 0 and self.heap[self.parent(i)] > self.heap[i]:\n",
    "            self.swap(i, self.parent(i))\n",
    "            i = self.parent(i)\n",
    "\n",
    "    def heapify_down(self, i):\n",
    "        while self.left_child(i) < len(self.heap):\n",
    "            smallest = self.left_child(i)\n",
    "            if self.right_child(i) < len(self.heap) and self.heap[self.right_child(i)] < self.heap[smallest]:\n",
    "                smallest = self.right_child(i)\n",
    "            if self.heap[i] <= self.heap[smallest]:\n",
    "                break\n",
    "            self.swap(i, smallest)\n",
    "            i = smallest\n",
    "\n",
    "    def build_min_heap(self, arr):\n",
    "        self.heap = arr[:]\n",
    "        for i in range(len(arr) // 2, -1, -1):\n",
    "            self.heapify_down(i)\n",
    "\n",
    "    def insert(self, item):\n",
    "        self.heap.append(item)\n",
    "        self.heapify_up(len(self.heap) - 1)\n",
    "\n",
    "    def pop_root(self):\n",
    "        if len(self.heap) == 0:\n",
    "            return None\n",
    "        root = self.heap[0]\n",
    "        self.heap[0] = self.heap[-1]\n",
    "        del self.heap[-1]\n",
    "        self.heapify_down(0)\n",
    "        return root\n",
    "\n",
    "\n",
    "# Example usage:\n",
    "\n",
    "# Create a min heap\n",
    "heap = MinHeap()\n",
    "\n",
    "# Build the heap\n",
    "arr = [4, 10, 3, 5, 1, 8]\n",
    "heap.build_min_heap(arr)\n",
    "print(\"Initial Min Heap:\", heap.heap)\n",
    "\n",
    "# Insert an element\n",
    "heap.insert(2)\n",
    "print(\"Heap after insertion:\", heap.heap)\n",
    "\n",
    "# Pop the root node\n",
    "root = heap.pop_root()\n",
    "print(\"Popped root node:\", root)\n",
    "print(\"Heap after popping root node:\", heap.heap)\n"
   ]
  },
  {
   "cell_type": "code",
   "execution_count": null,
   "id": "9f409c79",
   "metadata": {},
   "outputs": [],
   "source": []
  }
 ],
 "metadata": {
  "kernelspec": {
   "display_name": "Python 3 (ipykernel)",
   "language": "python",
   "name": "python3"
  },
  "language_info": {
   "codemirror_mode": {
    "name": "ipython",
    "version": 3
   },
   "file_extension": ".py",
   "mimetype": "text/x-python",
   "name": "python",
   "nbconvert_exporter": "python",
   "pygments_lexer": "ipython3",
   "version": "3.10.9"
  }
 },
 "nbformat": 4,
 "nbformat_minor": 5
}
